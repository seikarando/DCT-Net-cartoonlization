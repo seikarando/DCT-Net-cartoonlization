{
 "cells": [
  {
   "cell_type": "code",
   "execution_count": null,
   "id": "1a17ae56-a650-45d8-b12d-1394a8a728d4",
   "metadata": {
    "tags": []
   },
   "outputs": [],
   "source": [
    "pip install \"modelscope[cv]\" -f https://modelscope.oss-cn-beijing.aliyuncs.com/releases/repo.html"
   ]
  },
  {
   "cell_type": "code",
   "execution_count": 50,
   "id": "d36880b9-4a6c-45e8-976d-b9b18c20589e",
   "metadata": {},
   "outputs": [],
   "source": [
    "import cv2\n",
    "from modelscope.outputs import OutputKeys\n",
    "from modelscope.pipelines import pipeline\n",
    "from modelscope.utils.constant import Tasks\n",
    "import os\n",
    "import shutil"
   ]
  },
  {
   "cell_type": "code",
   "execution_count": 92,
   "id": "ce45c218-cabf-426a-adba-060a227414f3",
   "metadata": {},
   "outputs": [],
   "source": [
    "# 新建文件夹函数\n",
    "def makedir(dir_path):\n",
    "    dir_path=os.path.dirname(dir_path)#获取路径名，删掉文件名\n",
    "    bool=os.path.exists(dir_path)#存在返回True，不存在返回False\n",
    "    if bool:\n",
    "        pass\n",
    "    else:\n",
    "        os.makedirs(dir_path)"
   ]
  },
  {
   "cell_type": "code",
   "execution_count": null,
   "id": "89dba7d7-e8c6-44e3-9a23-d5c441b4a666",
   "metadata": {
    "collapsed": true,
    "jupyter": {
     "outputs_hidden": true
    },
    "tags": []
   },
   "outputs": [],
   "source": [
    "# 模型处理\n",
    "img_cartoon  = pipeline('image-portrait-stylization', 'damo/cv_unet_person-image-cartoon_compound-models')\n",
    "img_3D = pipeline(Tasks.image_portrait_stylization,  model='damo/cv_unet_person-image-cartoon-3d_compound-models')\n",
    "img_hand = pipeline(Tasks.image_portrait_stylization, model='damo/cv_unet_person-image-cartoon-handdrawn_compound-models')\n",
    "img_sketch = pipeline(Tasks.image_portrait_stylization, model='damo/cv_unet_person-image-cartoon-sketch_compound-models')\n",
    "img_art = pipeline(Tasks.image_portrait_stylization, model='damo/cv_unet_person-image-cartoon-artstyle_compound-models')"
   ]
  },
  {
   "cell_type": "code",
   "execution_count": null,
   "id": "d9a91ca8-913b-444b-874f-a0c1603127ad",
   "metadata": {
    "tags": []
   },
   "outputs": [],
   "source": [
    "# 输出\n",
    "for root,dirs,files in os.walk('input'):\n",
    "    for filename in files:\n",
    "        img_path = os.path.join(root,filename)\n",
    "        if filename.split(\".\")[1]=='png' or filename.split(\".\")[1]=='jpg':\n",
    "            output_cartoon= img_cartoon(img_path)\n",
    "            output_3D = img_3D(img_path)\n",
    "            output_hand = img_hand(img_path)\n",
    "            output_sketch = img_sketch(img_path)\n",
    "            output_art = img_art(img_path)\n",
    "            path_cartoon='output/'+img_path.split(\"input/\")[1].split(\".\")[0]+'_cartoon.png'\n",
    "            path_3D='output/'+img_path.split(\"input/\")[1].split(\".\")[0]+'_3D.png'\n",
    "            path_hand='output/'+img_path.split(\"input/\")[1].split(\".\")[0]+'_hand.png'\n",
    "            path_sketch='output/'+img_path.split(\"input/\")[1].split(\".\")[0]+'_sketch.png'\n",
    "            path_art='output/'+img_path.split(\"input/\")[1].split(\".\")[0]+'_art.png'\n",
    "            makedir(path_cartoon)\n",
    "            makedir(path_3D)\n",
    "            makedir(path_hand)\n",
    "            makedir(path_sketch)\n",
    "            makedir(path_art)\n",
    "            cv2.imwrite(path_cartoon, output_cartoon[OutputKeys.OUTPUT_IMG])\n",
    "            cv2.imwrite(path_3D, output_3D[OutputKeys.OUTPUT_IMG])\n",
    "            cv2.imwrite(path_hand, output_hand[OutputKeys.OUTPUT_IMG])\n",
    "            cv2.imwrite(path_sketch, output_sketch[OutputKeys.OUTPUT_IMG])\n",
    "            cv2.imwrite(path_art, output_art[OutputKeys.OUTPUT_IMG])"
   ]
  }
 ],
 "metadata": {
  "kernelspec": {
   "display_name": "Python 3 (ipykernel)",
   "language": "python",
   "name": "python3"
  },
  "language_info": {
   "codemirror_mode": {
    "name": "ipython",
    "version": 3
   },
   "file_extension": ".py",
   "mimetype": "text/x-python",
   "name": "python",
   "nbconvert_exporter": "python",
   "pygments_lexer": "ipython3",
   "version": "3.7.13"
  }
 },
 "nbformat": 4,
 "nbformat_minor": 5
}
